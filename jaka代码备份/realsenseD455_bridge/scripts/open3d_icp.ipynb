{
 "cells": [
  {
   "cell_type": "code",
   "execution_count": 1,
   "metadata": {},
   "outputs": [
    {
     "name": "stdout",
     "output_type": "stream",
     "text": [
      "Jupyter environment detected. Enabling Open3D WebVisualizer.\n",
      "[Open3D INFO] WebRTC GUI backend enabled.\n",
      "[Open3D INFO] WebRTCWindowSystem: HTTP handshake server disabled.\n"
     ]
    }
   ],
   "source": [
    "import open3d as o3d\n",
    "import numpy as np\n",
    "from scipy.spatial.transform import Rotation\n",
    "import copy\n"
   ]
  },
  {
   "cell_type": "markdown",
   "metadata": {},
   "source": [
    "# Utilizes code"
   ]
  },
  {
   "cell_type": "markdown",
   "metadata": {},
   "source": [
    "### transformation"
   ]
  },
  {
   "cell_type": "code",
   "execution_count": 2,
   "metadata": {},
   "outputs": [],
   "source": [
    "def readXYZfile(filename, Separator=\" \"):\n",
    "  data = []\n",
    "  \n",
    "  f = open(filename,'r') \n",
    "  line = f.readline() \n",
    "  num = 0\n",
    "  while line:  #按行读入点云\n",
    "\n",
    "     x,y,z = line.split(Separator)[:3]\n",
    "     data.append([float(x),float(y),float(z)])  #X坐标\n",
    "     num = num + 1\n",
    "     line = f.readline()\n",
    "  f.close() \n",
    "  \n",
    "\n",
    "  return data\n",
    "\n",
    "def get_rotationMatrix_from_euler(euler_list, pattern='XYZ', ret_np=False):\n",
    "    rot = Rotation.from_euler(pattern, euler_list).as_matrix()\n",
    "    if ret_np:\n",
    "        rot = np.array(rot, dtype=np.float)\n",
    "    return list(rot)\n",
    "\n",
    "def get_rotationMatrix_from_quat(quat_list, ret_np=False):\n",
    "    rot = Rotation.from_quat(quat_list).as_matrix()\n",
    "    if ret_np:\n",
    "        rot = np.array(rot, dtype=np.float)\n",
    "    return list(rot)\n",
    "\n",
    "# PointCloud Coordination Transform\n",
    "def transfromCP(points, transf, ret_np=False):\n",
    "\n",
    "    rotation = np.array(transf[:3,:3], dtype=np.float32)\n",
    "    translation = np.array([transf[0][3],transf[1][3], transf[2][3]], dtype=np.float32)\n",
    "\n",
    "    print(\"rotation: \", rotation)\n",
    "    print(\"translation: \", translation)\n",
    "    new_points = []\n",
    "    \n",
    "    for point in points:\n",
    "        np.resize(point,(3,1))\n",
    "        new_points.append(np.matmul(rotation, point) + translation)\n",
    "    \n",
    "    if ret_np:\n",
    "        new_points = np.array(new_points, dtype=np.float32)\n",
    "    \n",
    "    return new_points\n",
    "\n",
    "# Rotate PointCloud\n",
    "def rotate_pointCloud(points, rot, ret_np=False):\n",
    "    new_points = []\n",
    "    \n",
    "    for point in points:\n",
    "        np.resize(point,(3,1))\n",
    "        new_points.append(np.matmul(rot, point))\n",
    "    \n",
    "    if ret_np:\n",
    "        new_points = np.array(new_points, dtype=np.float32)\n",
    "    \n",
    "    return new_points\n",
    "\n",
    "# Transform Matrix from xyzrpy\n",
    "def get_transform_matrix_xyzrpy(trans_list, euler_list, pattern='XYZ', ret_np=False):\n",
    "    rot_matrix = get_rotationMatrix_from_euler(euler_list, pattern)\n",
    "    ret = np.zeros((4,4), dtype=np.float32)\n",
    "    for i in range(3):\n",
    "        for j in range(3):\n",
    "            ret[i,j] = rot_matrix[i][j]\n",
    "    \n",
    "    ret[0,3] = trans_list[0]\n",
    "    ret[1,3] = trans_list[1]\n",
    "    ret[2,3] = trans_list[2]\n",
    "    ret[3,3] = 1\n",
    "    return ret\n",
    "\n",
    "# Transform Matrix from xyz abcd\n",
    "def get_transform_matrix_xyzabcd(xyzabcd, ret_np=False):\n",
    "    rot_matrix = get_rotationMatrix_from_quat(xyzabcd[3:])\n",
    "    ret = np.zeros((4,4), dtype=np.float32)\n",
    "    for i in range(3):\n",
    "        for j in range(3):\n",
    "            ret[i,j] = rot_matrix[i][j]\n",
    "    \n",
    "    ret[0,3] = xyzabcd[0]\n",
    "    ret[1,3] = xyzabcd[1]\n",
    "    ret[2,3] = xyzabcd[2]\n",
    "    ret[3,3] = 1\n",
    "    return ret\n",
    "    "
   ]
  },
  {
   "cell_type": "markdown",
   "metadata": {},
   "source": [
    "### visualization"
   ]
  },
  {
   "cell_type": "code",
   "execution_count": 3,
   "metadata": {},
   "outputs": [],
   "source": [
    "\n",
    "def draw_registration_result(source, target, transformation):\n",
    "    transformation = np.array(transformation, dtype=np.float32)\n",
    "    source_temp = copy.deepcopy(source)\n",
    "    target_temp = copy.deepcopy(target)\n",
    "    # source_temp.paint_uniform_color([1, 0.706, 0])\n",
    "    # target_temp.paint_uniform_color([0, 0.651, 0.929])\n",
    "    source_temp.transform(transformation)\n",
    "    o3d.visualization.draw_geometries([source_temp, target_temp])\n",
    "    \n",
    "\n",
    "def draw_registration_results(sources, target, transformations):\n",
    "    target_temp = copy.deepcopy(target)\n",
    "    sources_temp = copy.deepcopy(sources)\n",
    "    # target_temp.paint_uniform_color([1, 0.706, 0])\n",
    "    \n",
    "    # sources_temp = [x.paint_uniform_color([0, 0.651, 0.929]) for x in sources_temp]\n",
    "    \n",
    "    sources_temp = [x.transform(transformations[i]) for i,x in enumerate(sources)]\n",
    "    sources_temp.append(target_temp)\n",
    "    o3d.visualization.draw_geometries(sources_temp)\n",
    "    \n",
    "def draw_registration_results_and_ret(sources, target, transformations):\n",
    "    target_temp = copy.deepcopy(target)\n",
    "    sources_temp = copy.deepcopy(sources)\n",
    "    # target_temp.paint_uniform_color([1, 0.706, 0])\n",
    "    \n",
    "    # sources_temp = [x.paint_uniform_color([0, 0.651, 0.929]) for x in sources_temp]\n",
    "    \n",
    "    sources_temp = [x.transform(transformations[i]) for i,x in enumerate(sources)]\n",
    "    sources_temp.append(target_temp)\n",
    "    o3d.visualization.draw_geometries(sources_temp)\n",
    "    return sources_temp"
   ]
  },
  {
   "cell_type": "markdown",
   "metadata": {},
   "source": [
    "# Iterative Closest Point"
   ]
  },
  {
   "cell_type": "markdown",
   "metadata": {},
   "source": [
    "### Initial position of clouds"
   ]
  },
  {
   "cell_type": "markdown",
   "metadata": {},
   "source": [
    "$ rosrun tf tf_echo /camera_color_frame /camera_color_optical_frame   \n",
    "- Translation: [0.000, 0.000, 0.000]\n",
    "- Rotation: in Quaternion [-0.500, 0.500, -0.500, 0.500]\n",
    "            in RPY (radian) [-1.571, -0.000, -1.571]\n",
    "            in RPY (degree) [-90.000, -0.000, -90.000]\n",
    "\n",
    "\n",
    "$ rosrun tf tf_echo /platform /camera_color_frame                         \n",
    "At time 1668856518.632\n",
    "- Translation: [0.171, 0.221, 0.533]\n",
    "- Rotation: in Quaternion [0.036, 0.004, -0.396, 0.917]\n",
    "            in RPY (radian) [0.063, 0.036, -0.814]\n",
    "            in RPY (degree) [3.606, 2.081, -46.656]\n",
    "\n",
    "\n",
    "At time 1668856645.232\n",
    "- Translation: [0.075, -0.064, 0.479]\n",
    "- Rotation: in Quaternion [0.445, -0.063, -0.164, 0.878]\n",
    "            in RPY (radian) [0.931, 0.035, -0.352]\n",
    "            in RPY (degree) [53.364, 2.021, -20.172]\n",
    "\n",
    "At time 1668856816.232\n",
    "- Translation: [0.782, 0.147, 0.426]\n",
    "- Rotation: in Quaternion [-0.105, -0.003, -0.744, 0.660]\n",
    "            in RPY (radian) [-0.137, -0.160, -1.679]\n",
    "            in RPY (degree) [-7.829, -9.191, -96.222]\n",
    "\n",
    "At time 1668856927.732\n",
    "- Translation: [0.304, 0.128, 0.821]\n",
    "- Rotation: in Quaternion [0.156, 0.177, -0.427, 0.873]\n",
    "            in RPY (radian) [0.135, 0.458, -0.879]\n",
    "            in RPY (degree) [7.759, 26.232, -50.359]\n",
    "\n",
    "At time 1668857029.632\n",
    "- Translation: [0.429, 0.123, 0.224]\n",
    "- Rotation: in Quaternion [0.881, -0.435, 0.185, -0.007]\n",
    "            in RPY (radian) [-2.958, -0.326, -0.947]\n",
    "            in RPY (degree) [-169.492, -18.686, -54.263]"
   ]
  },
  {
   "cell_type": "markdown",
   "metadata": {},
   "source": [
    "### registration of two clouds"
   ]
  },
  {
   "cell_type": "code",
   "execution_count": 4,
   "metadata": {},
   "outputs": [],
   "source": [
    "# import os\n",
    "# PC_dir = \"/home/msi/1008_catkin_ws/src/realsenseD455_bridge/saved_points/\"\n",
    "# pointClouds = [\"cloud2.xyz\",\"cloud3.xyz\"]\n",
    "\n",
    "# # demo_icp_pcds = o3d.data.DemoICPPointClouds()\n",
    "# target = o3d.io.read_point_cloud(os.path.join(PC_dir, \"cloud1.xyz\"))\n",
    "# sources = [o3d.io.read_point_cloud(os.path.join(PC_dir, x)) for x in pointClouds]\n",
    "# trans_inits = [get_transform_matrix([0,0,0], [0,(i+1)*3.1416/4,0]) for i in range(len(pointClouds))]\n",
    "# print(trans_inits)\n",
    "# threshold = 0.02\n",
    "# draw_registration_results(sources, target, trans_inits)"
   ]
  },
  {
   "cell_type": "code",
   "execution_count": 5,
   "metadata": {},
   "outputs": [],
   "source": [
    "# transformation = o3d.pipelines.registration.registration_icp(\n",
    "#     sources[0], target, threshold, trans_inits[0],\n",
    "#     o3d.pipelines.registration.TransformationEstimationPointToPoint()).transformation\n",
    "\n",
    "# draw_registration_result(sources[0], target, transformation)"
   ]
  },
  {
   "cell_type": "markdown",
   "metadata": {},
   "source": [
    "### registration of five clouds"
   ]
  },
  {
   "cell_type": "code",
   "execution_count": 6,
   "metadata": {},
   "outputs": [],
   "source": [
    "import os\n",
    "PC_dir = \"/home/msi/1008_catkin_ws/src/realsenseD455_bridge/saved_points/\"\n",
    "pointClouds = [\"cloud2.ply\",\"cloud3.ply\",\"cloud4.ply\", \"cloud5.ply\" ]\n",
    "\n",
    "T0 = get_transform_matrix_xyzabcd([0,0,0,-0.500, 0.500, -0.500, 0.500])\n",
    "T_target = get_transform_matrix_xyzabcd([0.171, 0.221, 0.533,0.036, 0.004, -0.396, 0.9170])\n",
    "\n",
    "sources_xyzabcd = [\n",
    "    [0.075, -0.064, 0.479,0.445, -0.063, -0.164, 0.878],\n",
    "    [0.782, 0.147, 0.426,-0.105, -0.003, -0.744, 0.660],\n",
    "    [0.304, 0.128, 0.821,0.156, 0.177, -0.427, 0.873],\n",
    "    [0.429, 0.123, 0.224,0.881, -0.435, 0.185, -0.007]\n",
    "]\n",
    "\n",
    "T_sources = [get_transform_matrix_xyzabcd(x) for x in sources_xyzabcd]\n",
    "\n",
    "\n",
    "target = o3d.io.read_point_cloud(os.path.join(PC_dir, \"cloud1.ply\"))\n",
    "sources = [o3d.io.read_point_cloud(os.path.join(PC_dir, x)) for x in pointClouds]\n",
    "\n",
    "target.transform(np.matmul(T_target,T0))\n",
    "\n",
    "sources = [x.transform(np.matmul(T_sources[i],T0)) for i,x in enumerate(sources)]\n",
    "\n",
    "trans_inits = [get_transform_matrix_xyzabcd([0,0,0,0,0,0,1]) for i in range(len(sources))]\n",
    "\n",
    "threshold = 0.02\n",
    "# draw_registration_results(sources, target, trans_inits)"
   ]
  },
  {
   "cell_type": "code",
   "execution_count": 7,
   "metadata": {},
   "outputs": [
    {
     "name": "stdout",
     "output_type": "stream",
     "text": [
      "Initial alignment\n",
      "4\n",
      "RegistrationResult with fitness=8.847587e-01, inlier_rmse=6.282538e-03, and correspondence_set size of 87592\n",
      "Access transformation to get result.\n",
      "RegistrationResult with fitness=8.852450e-01, inlier_rmse=8.347609e-03, and correspondence_set size of 126814\n",
      "Access transformation to get result.\n",
      "RegistrationResult with fitness=9.292545e-01, inlier_rmse=6.897452e-03, and correspondence_set size of 104267\n",
      "Access transformation to get result.\n",
      "RegistrationResult with fitness=9.322340e-01, inlier_rmse=8.164335e-03, and correspondence_set size of 85085\n",
      "Access transformation to get result.\n"
     ]
    }
   ],
   "source": [
    "print(\"Initial alignment\")\n",
    "print(len(sources))\n",
    "for i in range(len(sources)):\n",
    "    evaluation = o3d.pipelines.registration.evaluate_registration(\n",
    "        sources[i], target, threshold, trans_inits[i])\n",
    "    print(evaluation)"
   ]
  },
  {
   "cell_type": "code",
   "execution_count": 8,
   "metadata": {},
   "outputs": [
    {
     "name": "stdout",
     "output_type": "stream",
     "text": [
      "Apply point-to-point ICP\n"
     ]
    }
   ],
   "source": [
    "print(\"Apply point-to-point ICP\")\n",
    "\n",
    "transformations = [o3d.pipelines.registration.registration_icp(\n",
    "    source, target, threshold, trans_inits[i],\n",
    "    o3d.pipelines.registration.TransformationEstimationPointToPoint()).transformation for i,source in enumerate(sources)]\n",
    "trans_inits = transformations\n",
    "clouds_dent = draw_registration_results_and_ret(sources, target, transformations)\n",
    "\n",
    "dent_cloud = None\n",
    "for cloud in clouds_dent:\n",
    "    if(dent_cloud == None):\n",
    "        dent_cloud = cloud\n",
    "    else:\n",
    "        dent_cloud = dent_cloud + cloud"
   ]
  },
  {
   "cell_type": "markdown",
   "metadata": {},
   "source": [
    "# Down Sampling & Filtering"
   ]
  },
  {
   "cell_type": "code",
   "execution_count": 9,
   "metadata": {},
   "outputs": [],
   "source": [
    "len(dent_cloud.points)\n",
    "voxel_down_sample_cloud = dent_cloud.voxel_down_sample(voxel_size=0.005)\n",
    "uniform_down_sample_cloud = dent_cloud.uniform_down_sample(every_k_points=3)\n"
   ]
  },
  {
   "cell_type": "code",
   "execution_count": 13,
   "metadata": {},
   "outputs": [],
   "source": [
    "# nb_neighbors:最近k个点    std_ratio:基于标准差的阈值，越小滤除点越多\n",
    "cl,ind = voxel_down_sample_cloud.remove_statistical_outlier(nb_neighbors=150,std_ratio=0.1)\n",
    "k_nei_pcd = voxel_down_sample_cloud.select_by_index(ind)\n",
    "o3d.visualization.draw_geometries([k_nei_pcd])"
   ]
  },
  {
   "cell_type": "code",
   "execution_count": 39,
   "metadata": {},
   "outputs": [],
   "source": [
    "# nb_points:基于球体内包含点数量的阈值  radius:半径\n",
    "cl,ind = voxel_down_sample_cloud.remove_radius_outlier(10,radius=0.02)\n",
    "remove_radius_outlier_pcd = voxel_down_sample_cloud.select_by_index(ind)\n",
    "o3d.visualization.draw_geometries([remove_radius_outlier_pcd])"
   ]
  },
  {
   "cell_type": "markdown",
   "metadata": {},
   "source": [
    "# Visualization"
   ]
  },
  {
   "cell_type": "markdown",
   "metadata": {},
   "source": [
    "### take photos from different position"
   ]
  },
  {
   "cell_type": "code",
   "execution_count": 25,
   "metadata": {},
   "outputs": [],
   "source": [
    "import matplotlib.pyplot as plt\n",
    "\n",
    "def custom_draw_geometry_with_camera_trajectory(pcd,\n",
    "                                                camera_trajectory_path):\n",
    "    custom_draw_geometry_with_camera_trajectory.index = -1\n",
    "    custom_draw_geometry_with_camera_trajectory.trajectory =\\\n",
    "        o3d.io.read_pinhole_camera_trajectory(camera_trajectory_path)\n",
    "    custom_draw_geometry_with_camera_trajectory.vis = o3d.visualization.Visualizer(\n",
    "    )\n",
    "    # custom_draw_geometry_with_camera_trajectory.ctr = custom_draw_geometry_with_camera_trajectory.vis.get_view_control()\n",
    "    # custom_draw_geometry_with_camera_trajectory.ctr.change_field_of_view(step=90.0)\n",
    "    image_path = os.path.join(\"/home/msi/1008_catkin_ws/src/realsenseD455_bridge/scripts/open3D_pictures\", 'image')\n",
    "    if not os.path.exists(image_path):\n",
    "        os.makedirs(image_path)\n",
    "    # depth_path = os.path.join(test_data_path, 'depth')\n",
    "    # if not os.path.exists(depth_path):\n",
    "    #     os.makedirs(depth_path)\n",
    "\n",
    "    def move_forward(vis):\n",
    "        # This function is called within the o3d.visualization.Visualizer::run() loop\n",
    "        # The run loop calls the function, then re-render\n",
    "        # So the sequence in this function is to:\n",
    "        # 1. Capture frame\n",
    "        # 2. index++, check ending criteria\n",
    "        # 3. Set camera\n",
    "        # 4. (Re-render)\n",
    "        ctr = vis.get_view_control()\n",
    "        ctr.rotate(18.0,0.0)\n",
    "        glb = custom_draw_geometry_with_camera_trajectory\n",
    "        if glb.index >= 0:\n",
    "            print(\"Capture image {:05d}\".format(glb.index))\n",
    "            \n",
    "            image = vis.capture_screen_float_buffer(False)\n",
    "            plt.imsave(os.path.join(image_path, '{:05d}.png'.format(glb.index)),\n",
    "                       np.asarray(image),\n",
    "                       dpi=1)\n",
    "            \n",
    "            # depth = vis.capture_depth_float_buffer(False)\n",
    "            # plt.imsave(os.path.join(depth_path, '{:05d}.png'.format(glb.index)),\n",
    "            #            np.asarray(depth),\n",
    "            #            dpi=1)\n",
    "             \n",
    "            # vis.capture_depth_image(\"depth/{:05d}.png\".format(glb.index), False)\n",
    "            # vis.capture_screen_image(\"image/{:05d}.png\".format(glb.index), False)\n",
    "        glb.index = glb.index + 1\n",
    "        if glb.index < len(glb.trajectory.parameters):\n",
    "            pass\n",
    "            # ctr.convert_from_pinhole_camera_parameters(\n",
    "            #     glb.trajectory.parameters[glb.index], allow_arbitrary=True)\n",
    "        else:\n",
    "            custom_draw_geometry_with_camera_trajectory.vis.\\\n",
    "                register_animation_callback(None)\n",
    "        return False\n",
    "\n",
    "    vis = custom_draw_geometry_with_camera_trajectory.vis\n",
    "    vis.create_window()\n",
    "    vis.add_geometry(pcd)\n",
    "    ctr = vis.get_view_control()\n",
    "    ctr.set_front([-0.86550403147135757, 0.50006642277345881, -0.028919618278666261])\n",
    "    ctr.set_zoom(0.7)\n",
    "    ctr.set_lookat([0.61088458536769674, -0.30636349079498498, 0.42844215833833982])\n",
    "    ctr.set_up([-0.022685560375805946, 0.018543053043332553, 0.99957066810419548])\n",
    "    vis.register_animation_callback(move_forward)\n",
    "    vis.run()\n",
    "    vis.destroy_window()\n",
    "\t\t\t\n",
    "def take_photos(pcd):\n",
    "    sample_data = o3d.data.DemoCustomVisualization()\n",
    "\n",
    "    # pcd = o3d.io.read_point_cloud(sample_data.point_cloud_path)\n",
    "    print(\"6. Customized visualization playing a camera trajectory\")\n",
    "    custom_draw_geometry_with_camera_trajectory(\n",
    "        pcd, sample_data.camera_trajectory_path)"
   ]
  },
  {
   "cell_type": "markdown",
   "metadata": {},
   "source": [
    "start pos\n",
    "{\n",
    "\t\"class_name\" : \"ViewTrajectory\",\n",
    "\t\"interval\" : 29,\n",
    "\t\"is_loop\" : false,\n",
    "\t\"trajectory\" : \n",
    "\t[\n",
    "\t\t{\n",
    "\t\t\t\"boundingbox_max\" : [ 0.93243532001533591, -0.21073464263476771, 0.77252421919861525 ],\n",
    "\t\t\t\"boundingbox_min\" : [ 0.28933385072005746, -0.40199233895520226, 0.084360097478064389 ],\n",
    "\t\t\t\"field_of_view\" : 60.0,\n",
    "\t\t\t\"front\" : [ -0.86550403147135757, 0.50006642277345881, -0.028919618278666261 ],\n",
    "\t\t\t\"lookat\" : [ 0.61088458536769674, -0.30636349079498498, 0.42844215833833982 ],\n",
    "\t\t\t\"up\" : [ -0.022685560375805946, 0.018543053043332553, 0.99957066810419548 ],\n",
    "\t\t\t\"zoom\" : 0.69999999999999996\n",
    "\t\t}\n",
    "\t],\n",
    "\t\"version_major\" : 1,\n",
    "\t\"version_minor\" : 0\n",
    "}"
   ]
  },
  {
   "cell_type": "code",
   "execution_count": null,
   "metadata": {},
   "outputs": [],
   "source": [
    "take_photos(remove_radius_outlier_pcd)"
   ]
  },
  {
   "cell_type": "markdown",
   "metadata": {},
   "source": [
    "### show animations"
   ]
  },
  {
   "cell_type": "code",
   "execution_count": 13,
   "metadata": {},
   "outputs": [],
   "source": [
    "import time\n",
    "def custom_draw_geometry_with_rotation(pcd):\n",
    "    def rotate_view(vis):\n",
    "        ctr = vis.get_view_control()\n",
    "        ctr.rotate(10.0,0.0)\n",
    "        return False\n",
    "    \n",
    "    o3d.visualization.draw_geometries_with_animation_callback([pcd], rotate_view)\n"
   ]
  },
  {
   "cell_type": "code",
   "execution_count": null,
   "metadata": {},
   "outputs": [],
   "source": [
    "class RenderClass(object):\n",
    "    def __init__(self, pcd):\n",
    "        self.pcd = pcd\n",
    "        self.current_render_index = 0\n",
    "    \n",
    "    def vis_callback(self, vis):\n",
    "        if self.current_render_index < len(self.sampled_index):\n",
    "            mesh_sphere = o3d.geometry.TriangleMesh.create_sphere(radius=0.5)\n",
    "            mesh_sphere.paint_uniform_color([0.8, 0.1, 0.2])\n",
    "            mesh_sphere.translate(self.points[self.sampled_index[self.current_render_index]])\n",
    "            self.current_render_index = self.current_render_index + 1\n",
    "            time.sleep(0.1)\n",
    "            vis.add_geometry(mesh_sphere, False)\n",
    "        \n",
    "        # else:\n",
    "        #     vis.clear_geometries()\n",
    "        #     vis.add_geometry(self.pcd, False)\n",
    "        #     self.current_render_index = 0"
   ]
  },
  {
   "cell_type": "code",
   "execution_count": 31,
   "metadata": {},
   "outputs": [],
   "source": [
    "# o3d.visualization.draw_geometries([voxel_down_sample_cloud])\n",
    "custom_draw_geometry_with_rotation(voxel_down_sample_cloud)"
   ]
  },
  {
   "cell_type": "code",
   "execution_count": 15,
   "metadata": {},
   "outputs": [],
   "source": [
    "rc = RenderClass(voxel_down_sample_cloud)\n",
    "o3d.visualization.draw_geometries_with_animation_callback([voxel_down_sample_cloud], rc.vis_callback)"
   ]
  },
  {
   "cell_type": "markdown",
   "metadata": {},
   "source": [
    "# Save"
   ]
  },
  {
   "cell_type": "code",
   "execution_count": 41,
   "metadata": {},
   "outputs": [
    {
     "data": {
      "text/plain": [
       "True"
      ]
     },
     "execution_count": 41,
     "metadata": {},
     "output_type": "execute_result"
    }
   ],
   "source": [
    "o3d.io.write_point_cloud(\"/home/msi/1008_catkin_ws/src/realsenseD455_bridge/saved_points/ICPResult.ply\",remove_radius_outlier_pcd)"
   ]
  }
 ],
 "metadata": {
  "interpreter": {
   "hash": "916dbcbb3f70747c44a77c7bcd40155683ae19c65e1c03b4aa3499c5328201f1"
  },
  "kernelspec": {
   "display_name": "",
   "language": "python",
   "name": "python3"
  },
  "language_info": {
   "codemirror_mode": {
    "name": "ipython",
    "version": 3
   },
   "file_extension": ".py",
   "mimetype": "text/x-python",
   "name": "python",
   "nbconvert_exporter": "python",
   "pygments_lexer": "ipython3",
   "version": "3.8.10"
  },
  "orig_nbformat": 4
 },
 "nbformat": 4,
 "nbformat_minor": 2
}
